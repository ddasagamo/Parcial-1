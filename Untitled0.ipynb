{
  "nbformat": 4,
  "nbformat_minor": 0,
  "metadata": {
    "colab": {
      "provenance": [],
      "authorship_tag": "ABX9TyMvGD2Oqn/GB4J4m3WzJLkp",
      "include_colab_link": true
    },
    "kernelspec": {
      "name": "python3",
      "display_name": "Python 3"
    },
    "language_info": {
      "name": "python"
    }
  },
  "cells": [
    {
      "cell_type": "markdown",
      "metadata": {
        "id": "view-in-github",
        "colab_type": "text"
      },
      "source": [
        "<a href=\"https://colab.research.google.com/github/ddasagamo/Parcial-1/blob/main/Untitled0.ipynb\" target=\"_parent\"><img src=\"https://colab.research.google.com/assets/colab-badge.svg\" alt=\"Open In Colab\"/></a>"
      ]
    },
    {
      "cell_type": "code",
      "execution_count": 54,
      "metadata": {
        "colab": {
          "base_uri": "https://localhost:8080/"
        },
        "id": "UHcLdUDNgAmd",
        "outputId": "744b9ea0-3f34-4eec-ea85-111dec18d4d0"
      },
      "outputs": [
        {
          "output_type": "stream",
          "name": "stdout",
          "text": [
            "La resistencia total del circuito es: 160.71 ohmios\n"
          ]
        }
      ],
      "source": [
        "def calcular_resistencia_total(resistencias):\n",
        "    suma_directa = 0\n",
        "    resistencias_paralelo = []\n",
        "\n",
        "    for i in resistencias:\n",
        "        if i < 10 or (10 <= i <= 100):\n",
        "            suma_directa += i\n",
        "        elif i > 100:\n",
        "            resistencias_paralelo.append(i)\n",
        "\n",
        "    if resistencias_paralelo:\n",
        "        inversa_total = sum(1/i for i in resistencias_paralelo)\n",
        "        resistencia_paralelo_total = 1 / inversa_total\n",
        "    else:\n",
        "        resistencia_paralelo_total = 0\n",
        "\n",
        "    resistencia_total = suma_directa + resistencia_paralelo_total\n",
        "    return resistencia_total\n",
        "\n",
        "resistencias = [5, 20, 150, 200, 50]\n",
        "resistencia_total = calcular_resistencia_total(resistencias)\n",
        "print(f\"La resistencia total del circuito es: {resistencia_total:.2f} ohmios\")\n"
      ]
    },
    {
      "cell_type": "code",
      "source": [
        "import random\n",
        "\n",
        "\n",
        "numeros_pares = [2, 4, 6, 8, 10, 12, 14, 16, 18, 20, 22, 24, 26, 28, 30, 32, 34, 36]\n",
        "numeros_impares = [1, 3, 5, 7, 9, 11, 13, 15, 17, 19, 21, 23, 25, 27, 29, 31, 33, 35]\n",
        "primera_docena = [1, 2, 3, 4, 5, 6, 7, 8, 9, 10, 11, 12]\n",
        "segunda_docena = [13, 14, 15, 16, 17, 18, 19, 20, 21, 22, 23, 24]\n",
        "tercera_docena = [25, 26, 27, 28, 29, 30, 31, 32, 33, 34, 35, 36]\n",
        "\n",
        "\n",
        "apuesta = int(input(\"Ingresa tu apuesta (un número entero del 0 al 36): \"))\n",
        "\n",
        "\n",
        "\n",
        "resultado = random.randint(0, 36)\n",
        "print(f\"El resultado de la ruleta es: {resultado}\")\n",
        "\n",
        "if apuesta > 36:\n",
        "    print(\"numeron no valido\")\n",
        "\n",
        "\n",
        "elif apuesta == resultado:\n",
        "    print(\"¡Felicidades! Has acertado el número exacto.\")\n",
        "elif (apuesta in numeros_pares and resultado in numeros_pares) or (apuesta in numeros_impares and resultado in numeros_impares):\n",
        "    print(\"¡Felicidades! Has acertado el grupo de números (pares o impares).\")\n",
        "elif (apuesta in primera_docena and resultado in primera_docena) or (apuesta in segunda_docena and resultado in segunda_docena) or (apuesta in tercera_docena and resultado in tercera_docena):\n",
        "    print(\"¡Felicidades! Has acertado la docena.\")\n",
        "else:\n",
        "    print(\"Lo siento, no has acertado. ¡Mejor suerte la próxima vez!\")\n",
        "\n"
      ],
      "metadata": {
        "colab": {
          "base_uri": "https://localhost:8080/"
        },
        "id": "G5YjHoxIggax",
        "outputId": "202e5aa8-9e51-4aef-b91f-9696b4d78340"
      },
      "execution_count": 75,
      "outputs": [
        {
          "output_type": "stream",
          "name": "stdout",
          "text": [
            "Ingresa tu apuesta (un número entero del 0 al 36): 45\n",
            "El resultado de la ruleta es: 2\n",
            "numeron no valido\n"
          ]
        }
      ]
    }
  ]
}